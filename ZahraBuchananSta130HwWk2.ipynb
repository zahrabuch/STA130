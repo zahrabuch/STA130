{
 "cells": [
  {
   "cell_type": "markdown",
   "id": "f49a23f0",
   "metadata": {},
   "source": [
    "Name: Zahra Buchanan\n",
    "Student #: 1011018818 \n",
    "Lecture: 0101"
   ]
  },
  {
   "cell_type": "code",
   "execution_count": 1,
   "id": "72417c91",
   "metadata": {},
   "outputs": [
    {
     "data": {
      "text/plain": [
       "0.6672"
      ]
     },
     "execution_count": 1,
     "metadata": {},
     "output_type": "execute_result"
    }
   ],
   "source": [
    "# Monte Hall Simulation Code -- not the only way to code this, but it's what Prof. Schwartz came up with...\n",
    "\n",
    "import numpy as np\n",
    "all_door_options = (1,2,3)  # tuple\n",
    "my_door_choice = 1  # 1,2,3\n",
    "i_won = 0\n",
    "reps = 100000\n",
    "for i in range(reps):\n",
    "    secret_winning_door = np.random.choice(all_door_options)\n",
    "    all_door_options_list = list(all_door_options)\n",
    "    # take the secret_winning_door, so we don't show it as a \"goat\" losing door\n",
    "    all_door_options_list.remove(secret_winning_door)\n",
    "    try:\n",
    "        # if my_door_choice was secret_winning_door then it's already removed\n",
    "        all_door_options_list.remove(my_door_choice)\n",
    "    except:\n",
    "        pass\n",
    "    # show a \"goat\" losing door and remove it\n",
    "    goat_door_reveal = np.random.choice(all_door_options_list)\n",
    "    all_door_options_list.remove(goat_door_reveal)\n",
    "\n",
    "    # put the secret_winning_door back in if it wasn't our choice\n",
    "    # we previously removed it, so it would be shown as a  \"goat\" losing door\n",
    "    if secret_winning_door != my_door_choice:\n",
    "        all_door_options_list.append(secret_winning_door)\n",
    "    # if secret_winning_door was our choice then all that's left in the list is a \"goat\" losing door\n",
    "    # if secret_winning_door wasn't our choice then it's all that will be left in the list\n",
    "\n",
    "    # swap strategy\n",
    "    my_door_choice = all_door_options_list[0]\n",
    "\n",
    "    if my_door_choice == secret_winning_door:\n",
    "        i_won += 1\n",
    "\n",
    "i_won/reps"
   ]
  },
  {
   "cell_type": "code",
   "execution_count": 2,
   "id": "59cf7879",
   "metadata": {},
   "outputs": [
    {
     "name": "stdout",
     "output_type": "stream",
     "text": [
      "Winning by switching: 0.67\n"
     ]
    }
   ],
   "source": [
    "'''Q3'''\n",
    "import numpy as np\n",
    "\n",
    "all_doors = [1, 2, 3]\n",
    "switch_wins = 0\n",
    "reps = 100000\n",
    "\n",
    "for _ in range(reps):\n",
    "    winning_door = np.random.choice(all_doors)\n",
    "    initial_choice = np.random.choice(all_doors)\n",
    "\n",
    "    # Monty opens a door with a goat (not the winning door or the initial choice)\n",
    "    available_doors = [door for door in all_doors if door != winning_door and door != initial_choice]\n",
    "    monty_opens = np.random.choice(available_doors)\n",
    "    \n",
    "    # The door you can switch to (the door that Monty didn't open)\n",
    "    remaining_door = [door for door in all_doors if door != initial_choice and door != monty_opens][0]\n",
    "\n",
    "    # If you switch to the remaining door and it's the winning door, count a win\n",
    "    if remaining_door == winning_door:\n",
    "        switch_wins += 1\n",
    "\n",
    "# Calculate the probability of winning by switching\n",
    "switch_win_rate = switch_wins / reps\n",
    "print(f\"Winning by switching: {switch_win_rate:.2f}\")\n"
   ]
  },
  {
   "cell_type": "markdown",
   "id": "2466d14c",
   "metadata": {},
   "source": [
    "3. I prefer this code as it uses list comprehensions to find the goat door and the remaining door instead of using multiple assignments. The list comprehensions are easier to understand. \n",
    "Chatbot Link:https://chatgpt.com/share/66ec353a-d174-8008-bb68-7358ac633109"
   ]
  },
  {
   "cell_type": "markdown",
   "id": "0816f8d6",
   "metadata": {},
   "source": [
    "4-5.2 Chatbot Link: https://chatgpt.com/share/66ebb36a-66ec-8008-af41-7f5268b1bc13"
   ]
  },
  {
   "cell_type": "markdown",
   "id": "3009b3dc",
   "metadata": {},
   "source": [
    "5.3 Chatbot Link: https://chatgpt.com/share/66ebb3f5-2a80-8008-ab72-1dfdea752660"
   ]
  },
  {
   "cell_type": "markdown",
   "id": "584d28fc",
   "metadata": {},
   "source": [
    "6.1 I think the chatbot was very quick when it came to giving me the solutions for questions like 1, 2, and 3 when I asked it to explain the Monte Hall code and to find a simpler version. It got straight to the point for these questions but for questions 4-5 it took a bit longer to reach the specific answer I was looking for when asked about the Markovian Chatbot code and its extensions. However, the explanations for the Markovian codes were very quick and the first thing to appear each time.\n",
    "\n",
    "6.2 Interacting with the chatbot for certain questions can be slightly frustrating because most times it will give you a list of responses to choose from and then none of them end up being exactly what you are looking for. For example, question 5 when I asked the chatbot about the Markovian extension it kept suggesting ways to improve the code instead of outling the differences. It also gave me multiple differences that were not exactly what I was looking for even when I tried to guide it in the right direction. So I think that in some cases it can be frustrating.\n",
    "\n",
    "6.3 When it comes to helping me understand code I think the chatbot does a great job. Usually when I ask the the chatbot about a code it will break it up into different segments and explain how each part works which is normally straightforward and useful. I can also ask follow up questions and with this the chatbot will tend to explain a concept using examples which makes it much clearer. Last week when we were asked to show the chatbot errors it actually was veery useful in providing solutions in the context of my code which made fixing the errors quick and simple."
   ]
  },
  {
   "cell_type": "markdown",
   "id": "9e452ab3",
   "metadata": {},
   "source": [
    "7. Since starting the course I have realized chatbots can be extremly helpful in explaining blocks of code. Usually when people would refer to the use of Chatbots it would mainly be for generating code or looking for solutions to problems but it actually a great tool for learning. When using a chatbot you can ask it to explain a concept in as much depth as possible or you can even ask it to use analogies when explaining which I personally find really helpful. You can also ask the chatbot as many follow up questions as necessary and it responses are always specific to whatever code you have asked about. In the field of data science I think its necessary to utilize tools like this as there are so many things to learn and understand. "
   ]
  },
  {
   "cell_type": "markdown",
   "id": "06a9e0cc",
   "metadata": {},
   "source": [
    "8.3 Chatbot link:https://chatgpt.com/share/66ece8f2-a660-8008-b18f-2b18dbc0575e\n",
    "8.4 Based on the conversation I am now leaning towards Quantitative Analyst and I am interested in developing stronger math skills and coding skills. Id like to learn more about more mathematical processes in statistics and the various elements used by analysts. \n",
    "8.5 I think I would have liked to see more in depth explanations of the Quantative Analyst pertaining to the daily work they do and the general environment for this job. I would also like to hear from real people working in this position about their experience with it and the enjoyment. Also if they would have rathered pursuing another career in data science which is not something I would depend on a chatbot for."
   ]
  },
  {
   "cell_type": "markdown",
   "id": "dc612d08",
   "metadata": {},
   "source": [
    "9. Somewhat"
   ]
  }
 ],
 "metadata": {
  "kernelspec": {
   "display_name": "Python 3 (ipykernel)",
   "language": "python",
   "name": "python3"
  },
  "language_info": {
   "codemirror_mode": {
    "name": "ipython",
    "version": 3
   },
   "file_extension": ".py",
   "mimetype": "text/x-python",
   "name": "python",
   "nbconvert_exporter": "python",
   "pygments_lexer": "ipython3",
   "version": "3.11.6"
  }
 },
 "nbformat": 4,
 "nbformat_minor": 5
}
